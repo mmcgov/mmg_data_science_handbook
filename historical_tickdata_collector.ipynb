{
 "cells": [
  {
   "cell_type": "markdown",
   "metadata": {},
   "source": [
    "### Historcial Data Recorder for Gemini Exchange"
   ]
  },
  {
   "cell_type": "code",
   "execution_count": 1,
   "metadata": {},
   "outputs": [],
   "source": [
    "#import necessary packages\n",
    "import zmq   # message broadcasting/receiving protocol \n",
    "import datetime   # datetime libraries\n",
    "import pandas as pd  # data manipulation \n",
    "import numpy as np\n",
    "import tables as tb  # data storage\n",
    "import tstables as ts # fast data storage, write once/read many optimised\n",
    "import pygem as pg  # wrapper class for gemini rest api\n",
    "import configparser # initialise login details via config file\n",
    "import pygem_socket as pgs\n",
    "import time\n",
    "import threading   # multiprocessing library\n",
    "from threading import Timer,Thread,Event\n",
    "%matplotlib inline\n",
    "import matplotlib.pyplot as plt\n",
    "import matplotlib\n",
    "plt.style.use('seaborn')\n",
    "import pandas as pd\n",
    "import json\n",
    "from statsmodels import regression\n",
    "#\n",
    "import statsmodels.api as sm\n",
    "\n",
    "\n",
    "# set output to be single line\n",
    "pd.set_option('display.expand_frame_repr', False)\n",
    "matplotlib.rcParams['figure.figsize'] = (10.0, 7.0)\n",
    "\n",
    "\n",
    "jtplot.style(theme='chesterish')\n",
    "\n",
    "pd.options.mode.chained_assignment = None\n",
    "pd.set_option('display.max_columns', 500)\n"
   ]
  },
  {
   "cell_type": "code",
   "execution_count": 2,
   "metadata": {},
   "outputs": [],
   "source": [
    "\n",
    "# Connection to gemini exchange\n",
    "profile = configparser.ConfigParser()\n",
    "profile.read('LIVE_pyalgo.cfg')\n",
    "con_rest = pg.pygem(profile['gemini']['key'], profile['gemini']['secret_key'], debug=False)\n",
    "con_socket = pgs.pygem_socket(profile['gemini']['key'], profile['gemini']['secret_key'],debug=False)"
   ]
  },
  {
   "cell_type": "code",
   "execution_count": 3,
   "metadata": {},
   "outputs": [],
   "source": [
    "coin = 'BTC'"
   ]
  },
  {
   "cell_type": "code",
   "execution_count": 4,
   "metadata": {},
   "outputs": [
    {
     "name": "stdout",
     "output_type": "stream",
     "text": [
      "coin= BTC\n",
      "coin_low= btc\n",
      "coinpair= BTCUSD\n",
      "coinpair_low= btcusd\n"
     ]
    }
   ],
   "source": [
    "coin_low = coin.lower()\n",
    "coinpair = f'{coin}USD'\n",
    "coinpair_low = coinpair.lower()\n",
    "print(f'coin= {coin}')\n",
    "print(f'coin_low= {coin_low}')\n",
    "print(f'coinpair= {coinpair}')\n",
    "print(f'coinpair_low= {coinpair_low}')"
   ]
  },
  {
   "cell_type": "markdown",
   "metadata": {},
   "source": [
    "### SERVER DATA"
   ]
  },
  {
   "cell_type": "code",
   "execution_count": null,
   "metadata": {},
   "outputs": [],
   "source": [
    "file_path = f'root@178.62.43.173:/root/tick_data_storage/data_files/df_{coinpair_low}_data.h5'\n",
    "!pscp $file_path ."
   ]
  },
  {
   "cell_type": "code",
   "execution_count": null,
   "metadata": {},
   "outputs": [],
   "source": [
    "initial_f = f'df_{coinpair_low}_data.h5'\n",
    "working_f = f'old_df_{coinpair_low}_data.h5'\n",
    "!mv $initial_f $working_f"
   ]
  },
  {
   "cell_type": "code",
   "execution_count": 5,
   "metadata": {},
   "outputs": [],
   "source": [
    "h1 = pd.HDFStore(f'old_df_{coinpair_low}_data.h5','r')\n",
    "df_data =h1[f'df_{coinpair_low}_data']"
   ]
  },
  {
   "cell_type": "code",
   "execution_count": 6,
   "metadata": {},
   "outputs": [
    {
     "data": {
      "text/html": [
       "<div>\n",
       "<style scoped>\n",
       "    .dataframe tbody tr th:only-of-type {\n",
       "        vertical-align: middle;\n",
       "    }\n",
       "\n",
       "    .dataframe tbody tr th {\n",
       "        vertical-align: top;\n",
       "    }\n",
       "\n",
       "    .dataframe thead th {\n",
       "        text-align: right;\n",
       "    }\n",
       "</style>\n",
       "<table border=\"1\" class=\"dataframe\">\n",
       "  <thead>\n",
       "    <tr style=\"text-align: right;\">\n",
       "      <th></th>\n",
       "      <th>bid_side</th>\n",
       "      <th>ask_side</th>\n",
       "      <th>auction</th>\n",
       "      <th>USD_price</th>\n",
       "      <th>BTC_amount</th>\n",
       "    </tr>\n",
       "  </thead>\n",
       "  <tbody>\n",
       "    <tr>\n",
       "      <th>2015-10-08 14:40:07</th>\n",
       "      <td>1.0</td>\n",
       "      <td>0.0</td>\n",
       "      <td>0.0</td>\n",
       "      <td>242.50</td>\n",
       "      <td>0.050000</td>\n",
       "    </tr>\n",
       "    <tr>\n",
       "      <th>2015-10-08 14:41:35</th>\n",
       "      <td>1.0</td>\n",
       "      <td>0.0</td>\n",
       "      <td>0.0</td>\n",
       "      <td>242.95</td>\n",
       "      <td>0.001000</td>\n",
       "    </tr>\n",
       "    <tr>\n",
       "      <th>2015-10-08 14:43:41</th>\n",
       "      <td>0.0</td>\n",
       "      <td>1.0</td>\n",
       "      <td>0.0</td>\n",
       "      <td>242.96</td>\n",
       "      <td>0.010000</td>\n",
       "    </tr>\n",
       "    <tr>\n",
       "      <th>2015-10-08 14:44:14</th>\n",
       "      <td>1.0</td>\n",
       "      <td>0.0</td>\n",
       "      <td>0.0</td>\n",
       "      <td>242.96</td>\n",
       "      <td>0.033491</td>\n",
       "    </tr>\n",
       "    <tr>\n",
       "      <th>2015-10-08 14:46:46</th>\n",
       "      <td>1.0</td>\n",
       "      <td>0.0</td>\n",
       "      <td>0.0</td>\n",
       "      <td>242.96</td>\n",
       "      <td>0.004000</td>\n",
       "    </tr>\n",
       "  </tbody>\n",
       "</table>\n",
       "</div>"
      ],
      "text/plain": [
       "                     bid_side  ask_side  auction  USD_price  BTC_amount\n",
       "2015-10-08 14:40:07       1.0       0.0      0.0     242.50    0.050000\n",
       "2015-10-08 14:41:35       1.0       0.0      0.0     242.95    0.001000\n",
       "2015-10-08 14:43:41       0.0       1.0      0.0     242.96    0.010000\n",
       "2015-10-08 14:44:14       1.0       0.0      0.0     242.96    0.033491\n",
       "2015-10-08 14:46:46       1.0       0.0      0.0     242.96    0.004000"
      ]
     },
     "execution_count": 6,
     "metadata": {},
     "output_type": "execute_result"
    }
   ],
   "source": [
    "df_data.head()"
   ]
  },
  {
   "cell_type": "code",
   "execution_count": 7,
   "metadata": {},
   "outputs": [],
   "source": [
    "start = '2010-01-01 0:00:00' \n",
    "end = '2020-11-18 17:25:13'"
   ]
  },
  {
   "cell_type": "code",
   "execution_count": 8,
   "metadata": {},
   "outputs": [],
   "source": [
    "df_data = df_data[start:end]"
   ]
  },
  {
   "cell_type": "code",
   "execution_count": 9,
   "metadata": {},
   "outputs": [
    {
     "data": {
      "text/html": [
       "<div>\n",
       "<style scoped>\n",
       "    .dataframe tbody tr th:only-of-type {\n",
       "        vertical-align: middle;\n",
       "    }\n",
       "\n",
       "    .dataframe tbody tr th {\n",
       "        vertical-align: top;\n",
       "    }\n",
       "\n",
       "    .dataframe thead th {\n",
       "        text-align: right;\n",
       "    }\n",
       "</style>\n",
       "<table border=\"1\" class=\"dataframe\">\n",
       "  <thead>\n",
       "    <tr style=\"text-align: right;\">\n",
       "      <th></th>\n",
       "      <th>bid_side</th>\n",
       "      <th>ask_side</th>\n",
       "      <th>auction</th>\n",
       "      <th>USD_price</th>\n",
       "      <th>BTC_amount</th>\n",
       "    </tr>\n",
       "  </thead>\n",
       "  <tbody>\n",
       "    <tr>\n",
       "      <th>2015-10-08 14:40:07</th>\n",
       "      <td>1.0</td>\n",
       "      <td>0.0</td>\n",
       "      <td>0.0</td>\n",
       "      <td>242.50</td>\n",
       "      <td>0.050000</td>\n",
       "    </tr>\n",
       "    <tr>\n",
       "      <th>2015-10-08 14:41:35</th>\n",
       "      <td>1.0</td>\n",
       "      <td>0.0</td>\n",
       "      <td>0.0</td>\n",
       "      <td>242.95</td>\n",
       "      <td>0.001000</td>\n",
       "    </tr>\n",
       "    <tr>\n",
       "      <th>2015-10-08 14:43:41</th>\n",
       "      <td>0.0</td>\n",
       "      <td>1.0</td>\n",
       "      <td>0.0</td>\n",
       "      <td>242.96</td>\n",
       "      <td>0.010000</td>\n",
       "    </tr>\n",
       "    <tr>\n",
       "      <th>2015-10-08 14:44:14</th>\n",
       "      <td>1.0</td>\n",
       "      <td>0.0</td>\n",
       "      <td>0.0</td>\n",
       "      <td>242.96</td>\n",
       "      <td>0.033491</td>\n",
       "    </tr>\n",
       "    <tr>\n",
       "      <th>2015-10-08 14:46:46</th>\n",
       "      <td>1.0</td>\n",
       "      <td>0.0</td>\n",
       "      <td>0.0</td>\n",
       "      <td>242.96</td>\n",
       "      <td>0.004000</td>\n",
       "    </tr>\n",
       "  </tbody>\n",
       "</table>\n",
       "</div>"
      ],
      "text/plain": [
       "                     bid_side  ask_side  auction  USD_price  BTC_amount\n",
       "2015-10-08 14:40:07       1.0       0.0      0.0     242.50    0.050000\n",
       "2015-10-08 14:41:35       1.0       0.0      0.0     242.95    0.001000\n",
       "2015-10-08 14:43:41       0.0       1.0      0.0     242.96    0.010000\n",
       "2015-10-08 14:44:14       1.0       0.0      0.0     242.96    0.033491\n",
       "2015-10-08 14:46:46       1.0       0.0      0.0     242.96    0.004000"
      ]
     },
     "execution_count": 9,
     "metadata": {},
     "output_type": "execute_result"
    }
   ],
   "source": [
    "df_data.head()"
   ]
  },
  {
   "cell_type": "code",
   "execution_count": 10,
   "metadata": {
    "scrolled": true
   },
   "outputs": [
    {
     "data": {
      "text/html": [
       "<div>\n",
       "<style scoped>\n",
       "    .dataframe tbody tr th:only-of-type {\n",
       "        vertical-align: middle;\n",
       "    }\n",
       "\n",
       "    .dataframe tbody tr th {\n",
       "        vertical-align: top;\n",
       "    }\n",
       "\n",
       "    .dataframe thead th {\n",
       "        text-align: right;\n",
       "    }\n",
       "</style>\n",
       "<table border=\"1\" class=\"dataframe\">\n",
       "  <thead>\n",
       "    <tr style=\"text-align: right;\">\n",
       "      <th></th>\n",
       "      <th>bid_side</th>\n",
       "      <th>ask_side</th>\n",
       "      <th>auction</th>\n",
       "      <th>USD_price</th>\n",
       "      <th>BTC_amount</th>\n",
       "    </tr>\n",
       "  </thead>\n",
       "  <tbody>\n",
       "    <tr>\n",
       "      <th>2019-12-16 20:55:12.927</th>\n",
       "      <td>1.0</td>\n",
       "      <td>0.0</td>\n",
       "      <td>0.0</td>\n",
       "      <td>6838.95</td>\n",
       "      <td>0.350000</td>\n",
       "    </tr>\n",
       "    <tr>\n",
       "      <th>2019-12-16 20:55:14.832</th>\n",
       "      <td>0.0</td>\n",
       "      <td>1.0</td>\n",
       "      <td>0.0</td>\n",
       "      <td>6842.66</td>\n",
       "      <td>0.035814</td>\n",
       "    </tr>\n",
       "    <tr>\n",
       "      <th>2019-12-16 20:55:16.785</th>\n",
       "      <td>1.0</td>\n",
       "      <td>0.0</td>\n",
       "      <td>0.0</td>\n",
       "      <td>6841.42</td>\n",
       "      <td>0.000010</td>\n",
       "    </tr>\n",
       "    <tr>\n",
       "      <th>2019-12-16 20:55:19.366</th>\n",
       "      <td>0.0</td>\n",
       "      <td>1.0</td>\n",
       "      <td>0.0</td>\n",
       "      <td>6842.66</td>\n",
       "      <td>0.960000</td>\n",
       "    </tr>\n",
       "    <tr>\n",
       "      <th>2019-12-16 20:55:19.367</th>\n",
       "      <td>0.0</td>\n",
       "      <td>1.0</td>\n",
       "      <td>0.0</td>\n",
       "      <td>6842.66</td>\n",
       "      <td>0.004186</td>\n",
       "    </tr>\n",
       "  </tbody>\n",
       "</table>\n",
       "</div>"
      ],
      "text/plain": [
       "                         bid_side  ask_side  auction  USD_price  BTC_amount\n",
       "2019-12-16 20:55:12.927       1.0       0.0      0.0    6838.95    0.350000\n",
       "2019-12-16 20:55:14.832       0.0       1.0      0.0    6842.66    0.035814\n",
       "2019-12-16 20:55:16.785       1.0       0.0      0.0    6841.42    0.000010\n",
       "2019-12-16 20:55:19.366       0.0       1.0      0.0    6842.66    0.960000\n",
       "2019-12-16 20:55:19.367       0.0       1.0      0.0    6842.66    0.004186"
      ]
     },
     "execution_count": 10,
     "metadata": {},
     "output_type": "execute_result"
    }
   ],
   "source": [
    "df_data.tail()"
   ]
  },
  {
   "cell_type": "code",
   "execution_count": 11,
   "metadata": {
    "scrolled": true
   },
   "outputs": [
    {
     "data": {
      "text/plain": [
       "False"
      ]
     },
     "execution_count": 11,
     "metadata": {},
     "output_type": "execute_result"
    }
   ],
   "source": [
    "df_data.index.is_monotonic"
   ]
  },
  {
   "cell_type": "code",
   "execution_count": 12,
   "metadata": {},
   "outputs": [],
   "source": [
    "df_data.index  = df_data.index.floor('s')"
   ]
  },
  {
   "cell_type": "code",
   "execution_count": 13,
   "metadata": {},
   "outputs": [
    {
     "data": {
      "text/plain": [
       "False"
      ]
     },
     "execution_count": 13,
     "metadata": {},
     "output_type": "execute_result"
    }
   ],
   "source": [
    "df_data.index.is_monotonic"
   ]
  },
  {
   "cell_type": "code",
   "execution_count": 14,
   "metadata": {},
   "outputs": [
    {
     "data": {
      "text/plain": [
       "10385292"
      ]
     },
     "execution_count": 14,
     "metadata": {},
     "output_type": "execute_result"
    }
   ],
   "source": [
    "len(df_data)"
   ]
  },
  {
   "cell_type": "code",
   "execution_count": 15,
   "metadata": {},
   "outputs": [
    {
     "data": {
      "text/html": [
       "<div>\n",
       "<style scoped>\n",
       "    .dataframe tbody tr th:only-of-type {\n",
       "        vertical-align: middle;\n",
       "    }\n",
       "\n",
       "    .dataframe tbody tr th {\n",
       "        vertical-align: top;\n",
       "    }\n",
       "\n",
       "    .dataframe thead th {\n",
       "        text-align: right;\n",
       "    }\n",
       "</style>\n",
       "<table border=\"1\" class=\"dataframe\">\n",
       "  <thead>\n",
       "    <tr style=\"text-align: right;\">\n",
       "      <th></th>\n",
       "      <th>bid_side</th>\n",
       "      <th>ask_side</th>\n",
       "      <th>auction</th>\n",
       "      <th>USD_price</th>\n",
       "      <th>BTC_amount</th>\n",
       "    </tr>\n",
       "  </thead>\n",
       "  <tbody>\n",
       "    <tr>\n",
       "      <th>2017-03-02 15:36:03</th>\n",
       "      <td>0.0</td>\n",
       "      <td>1.0</td>\n",
       "      <td>0.0</td>\n",
       "      <td>1255.0</td>\n",
       "      <td>1252.54441</td>\n",
       "    </tr>\n",
       "    <tr>\n",
       "      <th>2017-03-02 17:57:18</th>\n",
       "      <td>0.0</td>\n",
       "      <td>1.0</td>\n",
       "      <td>0.0</td>\n",
       "      <td>1283.0</td>\n",
       "      <td>1000.00000</td>\n",
       "    </tr>\n",
       "    <tr>\n",
       "      <th>2017-03-02 17:57:18</th>\n",
       "      <td>0.0</td>\n",
       "      <td>1.0</td>\n",
       "      <td>0.0</td>\n",
       "      <td>1285.0</td>\n",
       "      <td>1000.00000</td>\n",
       "    </tr>\n",
       "    <tr>\n",
       "      <th>2017-03-02 17:57:18</th>\n",
       "      <td>0.0</td>\n",
       "      <td>1.0</td>\n",
       "      <td>0.0</td>\n",
       "      <td>1285.0</td>\n",
       "      <td>1000.00000</td>\n",
       "    </tr>\n",
       "    <tr>\n",
       "      <th>2017-03-02 17:57:26</th>\n",
       "      <td>1.0</td>\n",
       "      <td>0.0</td>\n",
       "      <td>0.0</td>\n",
       "      <td>1285.0</td>\n",
       "      <td>1000.00000</td>\n",
       "    </tr>\n",
       "  </tbody>\n",
       "</table>\n",
       "</div>"
      ],
      "text/plain": [
       "                     bid_side  ask_side  auction  USD_price  BTC_amount\n",
       "2017-03-02 15:36:03       0.0       1.0      0.0     1255.0  1252.54441\n",
       "2017-03-02 17:57:18       0.0       1.0      0.0     1283.0  1000.00000\n",
       "2017-03-02 17:57:18       0.0       1.0      0.0     1285.0  1000.00000\n",
       "2017-03-02 17:57:18       0.0       1.0      0.0     1285.0  1000.00000\n",
       "2017-03-02 17:57:26       1.0       0.0      0.0     1285.0  1000.00000"
      ]
     },
     "execution_count": 15,
     "metadata": {},
     "output_type": "execute_result"
    }
   ],
   "source": [
    "test = df_data[df_data[f'{coin}_amount']>750]\n",
    "test = test[(test['auction'] ==0)]\n",
    "test.head()"
   ]
  },
  {
   "cell_type": "markdown",
   "metadata": {},
   "source": [
    "### Check of tail line of data"
   ]
  },
  {
   "cell_type": "code",
   "execution_count": 16,
   "metadata": {
    "scrolled": true
   },
   "outputs": [
    {
     "data": {
      "text/html": [
       "<div>\n",
       "<style scoped>\n",
       "    .dataframe tbody tr th:only-of-type {\n",
       "        vertical-align: middle;\n",
       "    }\n",
       "\n",
       "    .dataframe tbody tr th {\n",
       "        vertical-align: top;\n",
       "    }\n",
       "\n",
       "    .dataframe thead th {\n",
       "        text-align: right;\n",
       "    }\n",
       "</style>\n",
       "<table border=\"1\" class=\"dataframe\">\n",
       "  <thead>\n",
       "    <tr style=\"text-align: right;\">\n",
       "      <th></th>\n",
       "      <th>bid_side</th>\n",
       "      <th>ask_side</th>\n",
       "      <th>auction</th>\n",
       "      <th>USD_price</th>\n",
       "      <th>BTC_amount</th>\n",
       "    </tr>\n",
       "  </thead>\n",
       "  <tbody>\n",
       "    <tr>\n",
       "      <th>2019-12-16 20:55:12</th>\n",
       "      <td>1.0</td>\n",
       "      <td>0.0</td>\n",
       "      <td>0.0</td>\n",
       "      <td>6838.95</td>\n",
       "      <td>0.350000</td>\n",
       "    </tr>\n",
       "    <tr>\n",
       "      <th>2019-12-16 20:55:14</th>\n",
       "      <td>0.0</td>\n",
       "      <td>1.0</td>\n",
       "      <td>0.0</td>\n",
       "      <td>6842.66</td>\n",
       "      <td>0.035814</td>\n",
       "    </tr>\n",
       "    <tr>\n",
       "      <th>2019-12-16 20:55:16</th>\n",
       "      <td>1.0</td>\n",
       "      <td>0.0</td>\n",
       "      <td>0.0</td>\n",
       "      <td>6841.42</td>\n",
       "      <td>0.000010</td>\n",
       "    </tr>\n",
       "    <tr>\n",
       "      <th>2019-12-16 20:55:19</th>\n",
       "      <td>0.0</td>\n",
       "      <td>1.0</td>\n",
       "      <td>0.0</td>\n",
       "      <td>6842.66</td>\n",
       "      <td>0.960000</td>\n",
       "    </tr>\n",
       "    <tr>\n",
       "      <th>2019-12-16 20:55:19</th>\n",
       "      <td>0.0</td>\n",
       "      <td>1.0</td>\n",
       "      <td>0.0</td>\n",
       "      <td>6842.66</td>\n",
       "      <td>0.004186</td>\n",
       "    </tr>\n",
       "  </tbody>\n",
       "</table>\n",
       "</div>"
      ],
      "text/plain": [
       "                     bid_side  ask_side  auction  USD_price  BTC_amount\n",
       "2019-12-16 20:55:12       1.0       0.0      0.0    6838.95    0.350000\n",
       "2019-12-16 20:55:14       0.0       1.0      0.0    6842.66    0.035814\n",
       "2019-12-16 20:55:16       1.0       0.0      0.0    6841.42    0.000010\n",
       "2019-12-16 20:55:19       0.0       1.0      0.0    6842.66    0.960000\n",
       "2019-12-16 20:55:19       0.0       1.0      0.0    6842.66    0.004186"
      ]
     },
     "execution_count": 16,
     "metadata": {},
     "output_type": "execute_result"
    }
   ],
   "source": [
    "df_data.tail()"
   ]
  },
  {
   "cell_type": "code",
   "execution_count": 17,
   "metadata": {},
   "outputs": [],
   "source": [
    "initial_start = df_data.index[-1]"
   ]
  },
  {
   "cell_type": "code",
   "execution_count": 18,
   "metadata": {},
   "outputs": [],
   "source": [
    "check_start = initial_start - datetime.timedelta(seconds=1)"
   ]
  },
  {
   "cell_type": "code",
   "execution_count": 19,
   "metadata": {},
   "outputs": [],
   "source": [
    "data1 = con_rest.get_trades_history(coinpair_low, since=check_start,\n",
    "                             limit_trades=500, include_breaks=False)"
   ]
  },
  {
   "cell_type": "code",
   "execution_count": 20,
   "metadata": {},
   "outputs": [
    {
     "data": {
      "text/html": [
       "<div>\n",
       "<style scoped>\n",
       "    .dataframe tbody tr th:only-of-type {\n",
       "        vertical-align: middle;\n",
       "    }\n",
       "\n",
       "    .dataframe tbody tr th {\n",
       "        vertical-align: top;\n",
       "    }\n",
       "\n",
       "    .dataframe thead th {\n",
       "        text-align: right;\n",
       "    }\n",
       "</style>\n",
       "<table border=\"1\" class=\"dataframe\">\n",
       "  <thead>\n",
       "    <tr style=\"text-align: right;\">\n",
       "      <th></th>\n",
       "      <th>amount</th>\n",
       "      <th>exchange</th>\n",
       "      <th>price</th>\n",
       "      <th>tid</th>\n",
       "      <th>timestamp</th>\n",
       "      <th>timestampms</th>\n",
       "      <th>type</th>\n",
       "    </tr>\n",
       "    <tr>\n",
       "      <th>datetime</th>\n",
       "      <th></th>\n",
       "      <th></th>\n",
       "      <th></th>\n",
       "      <th></th>\n",
       "      <th></th>\n",
       "      <th></th>\n",
       "      <th></th>\n",
       "    </tr>\n",
       "  </thead>\n",
       "  <tbody>\n",
       "    <tr>\n",
       "      <th>2019-12-16 20:55:19</th>\n",
       "      <td>0.960000</td>\n",
       "      <td>gemini</td>\n",
       "      <td>6842.66</td>\n",
       "      <td>9123854956</td>\n",
       "      <td>1576529719</td>\n",
       "      <td>1576529719366</td>\n",
       "      <td>buy</td>\n",
       "    </tr>\n",
       "    <tr>\n",
       "      <th>2019-12-16 20:55:19</th>\n",
       "      <td>0.004186</td>\n",
       "      <td>gemini</td>\n",
       "      <td>6842.66</td>\n",
       "      <td>9123854961</td>\n",
       "      <td>1576529719</td>\n",
       "      <td>1576529719367</td>\n",
       "      <td>buy</td>\n",
       "    </tr>\n",
       "    <tr>\n",
       "      <th>2019-12-16 20:55:37</th>\n",
       "      <td>0.145596</td>\n",
       "      <td>gemini</td>\n",
       "      <td>6843.90</td>\n",
       "      <td>9123861963</td>\n",
       "      <td>1576529737</td>\n",
       "      <td>1576529737706</td>\n",
       "      <td>buy</td>\n",
       "    </tr>\n",
       "    <tr>\n",
       "      <th>2019-12-16 20:55:37</th>\n",
       "      <td>0.000010</td>\n",
       "      <td>gemini</td>\n",
       "      <td>6840.28</td>\n",
       "      <td>9123861961</td>\n",
       "      <td>1576529737</td>\n",
       "      <td>1576529737706</td>\n",
       "      <td>buy</td>\n",
       "    </tr>\n",
       "    <tr>\n",
       "      <th>2019-12-16 20:55:41</th>\n",
       "      <td>0.000010</td>\n",
       "      <td>gemini</td>\n",
       "      <td>6840.27</td>\n",
       "      <td>9123863302</td>\n",
       "      <td>1576529741</td>\n",
       "      <td>1576529741308</td>\n",
       "      <td>sell</td>\n",
       "    </tr>\n",
       "  </tbody>\n",
       "</table>\n",
       "</div>"
      ],
      "text/plain": [
       "                       amount exchange    price         tid   timestamp    timestampms  type\n",
       "datetime                                                                                    \n",
       "2019-12-16 20:55:19  0.960000   gemini  6842.66  9123854956  1576529719  1576529719366   buy\n",
       "2019-12-16 20:55:19  0.004186   gemini  6842.66  9123854961  1576529719  1576529719367   buy\n",
       "2019-12-16 20:55:37  0.145596   gemini  6843.90  9123861963  1576529737  1576529737706   buy\n",
       "2019-12-16 20:55:37  0.000010   gemini  6840.28  9123861961  1576529737  1576529737706   buy\n",
       "2019-12-16 20:55:41  0.000010   gemini  6840.27  9123863302  1576529741  1576529741308  sell"
      ]
     },
     "execution_count": 20,
     "metadata": {},
     "output_type": "execute_result"
    }
   ],
   "source": [
    "data1.head()"
   ]
  },
  {
   "cell_type": "markdown",
   "metadata": {},
   "source": [
    "### Visual test of data"
   ]
  },
  {
   "cell_type": "code",
   "execution_count": 21,
   "metadata": {},
   "outputs": [
    {
     "data": {
      "image/png": "[encoded data removed]",
      "text/plain": [
       "<Figure size 1440x1080 with 2 Axes>"
      ]
     },
     "metadata": {
      "needs_background": "dark"
     },
     "output_type": "display_data"
    }
   ],
   "source": [
    "tickdata_graph = df_data\n",
    "tickdata_graph = tickdata_graph[(tickdata_graph['auction'] ==0)]\n",
    "\n",
    "plt.figure(figsize=(20,15))\n",
    "plt.subplots_adjust(hspace=0.2,wspace=0.1)\n",
    "\n",
    "plt.subplot(211)\n",
    "tickdata_graph['USD_price'].plot(color='Red')\n",
    "plt.xlabel('Time')\n",
    "plt.ylabel('Price')\n",
    "plt.title(f'{coin} tick data')\n",
    "plt.grid(True)\n",
    "\n",
    "plt.subplot(212)\n",
    "tickdata_graph[f'{coin}_amount'].plot()\n",
    "plt.xlabel('date')\n",
    "plt.ylabel('Volume')\n",
    "plt.title(f'{coin} volume')\n",
    "plt.grid(True)\n"
   ]
  },
  {
   "cell_type": "code",
   "execution_count": 22,
   "metadata": {},
   "outputs": [
    {
     "data": {
      "image/png": "[encoded data removed]",
      "text/plain": [
       "<Figure size 1440x1080 with 2 Axes>"
      ]
     },
     "metadata": {
      "needs_background": "dark"
     },
     "output_type": "display_data"
    }
   ],
   "source": [
    "tickdata_graph = df_data\n",
    "tickdata_graph = tickdata_graph[(tickdata_graph['auction'] ==0)]\n",
    "\n",
    "plt.figure(figsize=(20,15))\n",
    "plt.subplots_adjust(hspace=0.2,wspace=0.1)\n",
    "\n",
    "plt.subplot(211)\n",
    "tickdata_graph['USD_price'].plot(color='Red')\n",
    "plt.xlabel('Time')\n",
    "plt.ylabel('Price')\n",
    "plt.title(f'{coin} tick data')\n",
    "plt.grid(True)\n",
    "\n",
    "plt.subplot(212)\n",
    "tickdata_graph[f'{coin}_amount'].plot()\n",
    "plt.xlabel('date')\n",
    "plt.ylabel('Volume')\n",
    "plt.title(f'{coin} volume')\n",
    "plt.grid(True)\n"
   ]
  },
  {
   "cell_type": "markdown",
   "metadata": {},
   "source": [
    "### EXCHANGE DATA"
   ]
  },
  {
   "cell_type": "code",
   "execution_count": 23,
   "metadata": {},
   "outputs": [],
   "source": [
    "exchange_start = initial_start + datetime.timedelta(seconds=1)\n",
    "start         = exchange_start\n",
    "end           = datetime.datetime(2025, 1, 1, 1, 1, 1)"
   ]
  },
  {
   "cell_type": "code",
   "execution_count": 24,
   "metadata": {},
   "outputs": [
    {
     "name": "stdout",
     "output_type": "stream",
     "text": [
      "length=  500\n",
      "2019-12-16 22:19:44\n",
      "length=  1000\n",
      "2019-12-17 00:08:08\n",
      "length=  1500\n",
      "2019-12-17 04:24:45\n",
      "length=  2000\n",
      "2019-12-17 08:05:13\n",
      "length=  2500\n",
      "2019-12-17 11:53:19\n",
      "length=  3000\n",
      "2019-12-17 13:44:43\n",
      "length=  3500\n",
      "2019-12-17 14:11:14\n",
      "length=  4000\n",
      "2019-12-17 14:42:37\n",
      "length=  4500\n",
      "2019-12-17 15:58:07\n",
      "length=  5000\n",
      "2019-12-17 16:45:43\n",
      "length=  5500\n",
      "2019-12-17 18:10:09\n",
      "length=  6000\n",
      "2019-12-17 19:34:19\n",
      "length=  6500\n",
      "2019-12-17 20:15:24\n",
      "length=  7000\n",
      "2019-12-17 21:10:32\n",
      "length=  7500\n",
      "2019-12-17 22:28:30\n",
      "length=  8000\n",
      "2019-12-17 23:29:18\n",
      "length=  8500\n",
      "2019-12-18 01:11:00\n",
      "length=  9000\n",
      "2019-12-18 03:18:26\n",
      "length=  9500\n",
      "2019-12-18 05:35:10\n",
      "length=  10000\n",
      "2019-12-18 08:00:28\n",
      "length=  10500\n",
      "2019-12-18 11:18:07\n",
      "length=  11000\n",
      "2019-12-18 12:51:44\n",
      "length=  11500\n",
      "2019-12-18 13:07:35\n",
      "length=  12000\n",
      "2019-12-18 13:43:56\n",
      "length=  12500\n",
      "2019-12-18 14:43:33\n",
      "length=  13000\n",
      "2019-12-18 15:30:08\n",
      "length=  13500\n",
      "2019-12-18 16:24:09\n",
      "length=  14000\n",
      "2019-12-18 17:37:07\n",
      "length=  14500\n",
      "2019-12-18 19:00:51\n",
      "length=  15000\n",
      "2019-12-18 19:58:49\n",
      "length=  15500\n",
      "2019-12-18 20:23:51\n",
      "length=  16000\n",
      "2019-12-18 20:57:17\n",
      "length=  16500\n",
      "2019-12-18 22:14:04\n",
      "length=  16693\n",
      "2019-12-18 22:48:19\n",
      "length=  16693\n"
     ]
    }
   ],
   "source": [
    "#check_time = datetime.datetime.now().replace(microsecond=0)\n",
    "data=pd.DataFrame()\n",
    "length=0\n",
    "while start < end:\n",
    "    trades = con_rest.get_trades_history(coinpair_low, since=start,\n",
    "                             limit_trades=500, include_breaks=False)\n",
    "    length = length+len(trades)\n",
    "    print('length= ', length)\n",
    "    if len(trades)==0:\n",
    "        break\n",
    "    data = data.append(trades)\n",
    "    start = data.index[-1]\n",
    "    start = start + datetime.timedelta(seconds=1)\n",
    "    print(start)"
   ]
  },
  {
   "cell_type": "code",
   "execution_count": 25,
   "metadata": {},
   "outputs": [
    {
     "data": {
      "text/html": [
       "<div>\n",
       "<style scoped>\n",
       "    .dataframe tbody tr th:only-of-type {\n",
       "        vertical-align: middle;\n",
       "    }\n",
       "\n",
       "    .dataframe tbody tr th {\n",
       "        vertical-align: top;\n",
       "    }\n",
       "\n",
       "    .dataframe thead th {\n",
       "        text-align: right;\n",
       "    }\n",
       "</style>\n",
       "<table border=\"1\" class=\"dataframe\">\n",
       "  <thead>\n",
       "    <tr style=\"text-align: right;\">\n",
       "      <th></th>\n",
       "      <th>amount</th>\n",
       "      <th>exchange</th>\n",
       "      <th>price</th>\n",
       "      <th>tid</th>\n",
       "      <th>timestamp</th>\n",
       "      <th>timestampms</th>\n",
       "      <th>type</th>\n",
       "    </tr>\n",
       "    <tr>\n",
       "      <th>datetime</th>\n",
       "      <th></th>\n",
       "      <th></th>\n",
       "      <th></th>\n",
       "      <th></th>\n",
       "      <th></th>\n",
       "      <th></th>\n",
       "      <th></th>\n",
       "    </tr>\n",
       "  </thead>\n",
       "  <tbody>\n",
       "    <tr>\n",
       "      <th>2019-12-16 20:55:37</th>\n",
       "      <td>0.000010</td>\n",
       "      <td>gemini</td>\n",
       "      <td>6840.28</td>\n",
       "      <td>9123861961</td>\n",
       "      <td>1576529737</td>\n",
       "      <td>1576529737706</td>\n",
       "      <td>buy</td>\n",
       "    </tr>\n",
       "    <tr>\n",
       "      <th>2019-12-16 20:55:37</th>\n",
       "      <td>0.145596</td>\n",
       "      <td>gemini</td>\n",
       "      <td>6843.90</td>\n",
       "      <td>9123861963</td>\n",
       "      <td>1576529737</td>\n",
       "      <td>1576529737706</td>\n",
       "      <td>buy</td>\n",
       "    </tr>\n",
       "    <tr>\n",
       "      <th>2019-12-16 20:55:41</th>\n",
       "      <td>0.000010</td>\n",
       "      <td>gemini</td>\n",
       "      <td>6840.27</td>\n",
       "      <td>9123863302</td>\n",
       "      <td>1576529741</td>\n",
       "      <td>1576529741308</td>\n",
       "      <td>sell</td>\n",
       "    </tr>\n",
       "    <tr>\n",
       "      <th>2019-12-16 20:55:46</th>\n",
       "      <td>0.008800</td>\n",
       "      <td>gemini</td>\n",
       "      <td>6840.28</td>\n",
       "      <td>9123864930</td>\n",
       "      <td>1576529746</td>\n",
       "      <td>1576529746854</td>\n",
       "      <td>buy</td>\n",
       "    </tr>\n",
       "    <tr>\n",
       "      <th>2019-12-16 20:55:52</th>\n",
       "      <td>0.028628</td>\n",
       "      <td>gemini</td>\n",
       "      <td>6851.38</td>\n",
       "      <td>9123866466</td>\n",
       "      <td>1576529752</td>\n",
       "      <td>1576529752268</td>\n",
       "      <td>buy</td>\n",
       "    </tr>\n",
       "  </tbody>\n",
       "</table>\n",
       "</div>"
      ],
      "text/plain": [
       "                       amount exchange    price         tid   timestamp    timestampms  type\n",
       "datetime                                                                                    \n",
       "2019-12-16 20:55:37  0.000010   gemini  6840.28  9123861961  1576529737  1576529737706   buy\n",
       "2019-12-16 20:55:37  0.145596   gemini  6843.90  9123861963  1576529737  1576529737706   buy\n",
       "2019-12-16 20:55:41  0.000010   gemini  6840.27  9123863302  1576529741  1576529741308  sell\n",
       "2019-12-16 20:55:46  0.008800   gemini  6840.28  9123864930  1576529746  1576529746854   buy\n",
       "2019-12-16 20:55:52  0.028628   gemini  6851.38  9123866466  1576529752  1576529752268   buy"
      ]
     },
     "execution_count": 25,
     "metadata": {},
     "output_type": "execute_result"
    }
   ],
   "source": [
    "data.head()"
   ]
  },
  {
   "cell_type": "code",
   "execution_count": 26,
   "metadata": {},
   "outputs": [
    {
     "data": {
      "text/html": [
       "<div>\n",
       "<style scoped>\n",
       "    .dataframe tbody tr th:only-of-type {\n",
       "        vertical-align: middle;\n",
       "    }\n",
       "\n",
       "    .dataframe tbody tr th {\n",
       "        vertical-align: top;\n",
       "    }\n",
       "\n",
       "    .dataframe thead th {\n",
       "        text-align: right;\n",
       "    }\n",
       "</style>\n",
       "<table border=\"1\" class=\"dataframe\">\n",
       "  <thead>\n",
       "    <tr style=\"text-align: right;\">\n",
       "      <th></th>\n",
       "      <th>amount</th>\n",
       "      <th>exchange</th>\n",
       "      <th>price</th>\n",
       "      <th>tid</th>\n",
       "      <th>timestamp</th>\n",
       "      <th>timestampms</th>\n",
       "      <th>type</th>\n",
       "    </tr>\n",
       "    <tr>\n",
       "      <th>datetime</th>\n",
       "      <th></th>\n",
       "      <th></th>\n",
       "      <th></th>\n",
       "      <th></th>\n",
       "      <th></th>\n",
       "      <th></th>\n",
       "      <th></th>\n",
       "    </tr>\n",
       "  </thead>\n",
       "  <tbody>\n",
       "    <tr>\n",
       "      <th>2019-12-18 22:45:02</th>\n",
       "      <td>0.017018</td>\n",
       "      <td>gemini</td>\n",
       "      <td>7182.16</td>\n",
       "      <td>9148302402</td>\n",
       "      <td>1576709102</td>\n",
       "      <td>1576709102581</td>\n",
       "      <td>buy</td>\n",
       "    </tr>\n",
       "    <tr>\n",
       "      <th>2019-12-18 22:45:06</th>\n",
       "      <td>0.000010</td>\n",
       "      <td>gemini</td>\n",
       "      <td>7181.75</td>\n",
       "      <td>9148302668</td>\n",
       "      <td>1576709106</td>\n",
       "      <td>1576709106116</td>\n",
       "      <td>sell</td>\n",
       "    </tr>\n",
       "    <tr>\n",
       "      <th>2019-12-18 22:48:11</th>\n",
       "      <td>0.000160</td>\n",
       "      <td>gemini</td>\n",
       "      <td>7212.38</td>\n",
       "      <td>9148328953</td>\n",
       "      <td>1576709291</td>\n",
       "      <td>1576709291726</td>\n",
       "      <td>buy</td>\n",
       "    </tr>\n",
       "    <tr>\n",
       "      <th>2019-12-18 22:48:18</th>\n",
       "      <td>0.000010</td>\n",
       "      <td>gemini</td>\n",
       "      <td>7202.63</td>\n",
       "      <td>9148329933</td>\n",
       "      <td>1576709298</td>\n",
       "      <td>1576709298649</td>\n",
       "      <td>buy</td>\n",
       "    </tr>\n",
       "    <tr>\n",
       "      <th>2019-12-18 22:48:18</th>\n",
       "      <td>0.019300</td>\n",
       "      <td>gemini</td>\n",
       "      <td>7202.63</td>\n",
       "      <td>9148329935</td>\n",
       "      <td>1576709298</td>\n",
       "      <td>1576709298649</td>\n",
       "      <td>buy</td>\n",
       "    </tr>\n",
       "  </tbody>\n",
       "</table>\n",
       "</div>"
      ],
      "text/plain": [
       "                       amount exchange    price         tid   timestamp    timestampms  type\n",
       "datetime                                                                                    \n",
       "2019-12-18 22:45:02  0.017018   gemini  7182.16  9148302402  1576709102  1576709102581   buy\n",
       "2019-12-18 22:45:06  0.000010   gemini  7181.75  9148302668  1576709106  1576709106116  sell\n",
       "2019-12-18 22:48:11  0.000160   gemini  7212.38  9148328953  1576709291  1576709291726   buy\n",
       "2019-12-18 22:48:18  0.000010   gemini  7202.63  9148329933  1576709298  1576709298649   buy\n",
       "2019-12-18 22:48:18  0.019300   gemini  7202.63  9148329935  1576709298  1576709298649   buy"
      ]
     },
     "execution_count": 26,
     "metadata": {},
     "output_type": "execute_result"
    }
   ],
   "source": [
    "data.tail()"
   ]
  },
  {
   "cell_type": "code",
   "execution_count": 27,
   "metadata": {},
   "outputs": [
    {
     "data": {
      "text/plain": [
       "16693"
      ]
     },
     "execution_count": 27,
     "metadata": {},
     "output_type": "execute_result"
    }
   ],
   "source": [
    "len(data)"
   ]
  },
  {
   "cell_type": "code",
   "execution_count": 28,
   "metadata": {},
   "outputs": [
    {
     "data": {
      "text/plain": [
       "True"
      ]
     },
     "execution_count": 28,
     "metadata": {},
     "output_type": "execute_result"
    }
   ],
   "source": [
    "data.index.is_monotonic"
   ]
  },
  {
   "cell_type": "code",
   "execution_count": 29,
   "metadata": {},
   "outputs": [],
   "source": [
    "data1 = con_rest.get_trades_history(coinpair_low, since=exchange_start,\n",
    "                             limit_trades=500, include_breaks=False)"
   ]
  },
  {
   "cell_type": "code",
   "execution_count": 30,
   "metadata": {},
   "outputs": [
    {
     "data": {
      "text/html": [
       "<div>\n",
       "<style scoped>\n",
       "    .dataframe tbody tr th:only-of-type {\n",
       "        vertical-align: middle;\n",
       "    }\n",
       "\n",
       "    .dataframe tbody tr th {\n",
       "        vertical-align: top;\n",
       "    }\n",
       "\n",
       "    .dataframe thead th {\n",
       "        text-align: right;\n",
       "    }\n",
       "</style>\n",
       "<table border=\"1\" class=\"dataframe\">\n",
       "  <thead>\n",
       "    <tr style=\"text-align: right;\">\n",
       "      <th></th>\n",
       "      <th>amount</th>\n",
       "      <th>exchange</th>\n",
       "      <th>price</th>\n",
       "      <th>tid</th>\n",
       "      <th>timestamp</th>\n",
       "      <th>timestampms</th>\n",
       "      <th>type</th>\n",
       "    </tr>\n",
       "    <tr>\n",
       "      <th>datetime</th>\n",
       "      <th></th>\n",
       "      <th></th>\n",
       "      <th></th>\n",
       "      <th></th>\n",
       "      <th></th>\n",
       "      <th></th>\n",
       "      <th></th>\n",
       "    </tr>\n",
       "  </thead>\n",
       "  <tbody>\n",
       "    <tr>\n",
       "      <th>2019-12-16 20:55:37</th>\n",
       "      <td>0.000010</td>\n",
       "      <td>gemini</td>\n",
       "      <td>6840.28</td>\n",
       "      <td>9123861961</td>\n",
       "      <td>1576529737</td>\n",
       "      <td>1576529737706</td>\n",
       "      <td>buy</td>\n",
       "    </tr>\n",
       "    <tr>\n",
       "      <th>2019-12-16 20:55:37</th>\n",
       "      <td>0.145596</td>\n",
       "      <td>gemini</td>\n",
       "      <td>6843.90</td>\n",
       "      <td>9123861963</td>\n",
       "      <td>1576529737</td>\n",
       "      <td>1576529737706</td>\n",
       "      <td>buy</td>\n",
       "    </tr>\n",
       "    <tr>\n",
       "      <th>2019-12-16 20:55:41</th>\n",
       "      <td>0.000010</td>\n",
       "      <td>gemini</td>\n",
       "      <td>6840.27</td>\n",
       "      <td>9123863302</td>\n",
       "      <td>1576529741</td>\n",
       "      <td>1576529741308</td>\n",
       "      <td>sell</td>\n",
       "    </tr>\n",
       "    <tr>\n",
       "      <th>2019-12-16 20:55:46</th>\n",
       "      <td>0.008800</td>\n",
       "      <td>gemini</td>\n",
       "      <td>6840.28</td>\n",
       "      <td>9123864930</td>\n",
       "      <td>1576529746</td>\n",
       "      <td>1576529746854</td>\n",
       "      <td>buy</td>\n",
       "    </tr>\n",
       "    <tr>\n",
       "      <th>2019-12-16 20:55:52</th>\n",
       "      <td>0.028628</td>\n",
       "      <td>gemini</td>\n",
       "      <td>6851.38</td>\n",
       "      <td>9123866466</td>\n",
       "      <td>1576529752</td>\n",
       "      <td>1576529752268</td>\n",
       "      <td>buy</td>\n",
       "    </tr>\n",
       "  </tbody>\n",
       "</table>\n",
       "</div>"
      ],
      "text/plain": [
       "                       amount exchange    price         tid   timestamp    timestampms  type\n",
       "datetime                                                                                    \n",
       "2019-12-16 20:55:37  0.000010   gemini  6840.28  9123861961  1576529737  1576529737706   buy\n",
       "2019-12-16 20:55:37  0.145596   gemini  6843.90  9123861963  1576529737  1576529737706   buy\n",
       "2019-12-16 20:55:41  0.000010   gemini  6840.27  9123863302  1576529741  1576529741308  sell\n",
       "2019-12-16 20:55:46  0.008800   gemini  6840.28  9123864930  1576529746  1576529746854   buy\n",
       "2019-12-16 20:55:52  0.028628   gemini  6851.38  9123866466  1576529752  1576529752268   buy"
      ]
     },
     "execution_count": 30,
     "metadata": {},
     "output_type": "execute_result"
    }
   ],
   "source": [
    "data1.head()"
   ]
  },
  {
   "cell_type": "code",
   "execution_count": 31,
   "metadata": {},
   "outputs": [],
   "source": [
    "data_repair=pd.DataFrame()\n",
    "data_repair['bid_side']=(data['type'] =='sell').astype('float')\n",
    "data_repair['ask_side']=(data['type'] =='buy').astype('float')\n",
    "data_repair['auction']=(data['type'] =='auction').astype('float')\n",
    "data_repair['USD_price']=data['price']\n",
    "data_repair[f'{coin}_amount']=data['amount']  "
   ]
  },
  {
   "cell_type": "code",
   "execution_count": 32,
   "metadata": {},
   "outputs": [
    {
     "data": {
      "text/html": [
       "<div>\n",
       "<style scoped>\n",
       "    .dataframe tbody tr th:only-of-type {\n",
       "        vertical-align: middle;\n",
       "    }\n",
       "\n",
       "    .dataframe tbody tr th {\n",
       "        vertical-align: top;\n",
       "    }\n",
       "\n",
       "    .dataframe thead th {\n",
       "        text-align: right;\n",
       "    }\n",
       "</style>\n",
       "<table border=\"1\" class=\"dataframe\">\n",
       "  <thead>\n",
       "    <tr style=\"text-align: right;\">\n",
       "      <th></th>\n",
       "      <th>bid_side</th>\n",
       "      <th>ask_side</th>\n",
       "      <th>auction</th>\n",
       "      <th>USD_price</th>\n",
       "      <th>BTC_amount</th>\n",
       "    </tr>\n",
       "    <tr>\n",
       "      <th>datetime</th>\n",
       "      <th></th>\n",
       "      <th></th>\n",
       "      <th></th>\n",
       "      <th></th>\n",
       "      <th></th>\n",
       "    </tr>\n",
       "  </thead>\n",
       "  <tbody>\n",
       "    <tr>\n",
       "      <th>2019-12-16 20:55:37</th>\n",
       "      <td>0.0</td>\n",
       "      <td>1.0</td>\n",
       "      <td>0.0</td>\n",
       "      <td>6840.28</td>\n",
       "      <td>0.000010</td>\n",
       "    </tr>\n",
       "    <tr>\n",
       "      <th>2019-12-16 20:55:37</th>\n",
       "      <td>0.0</td>\n",
       "      <td>1.0</td>\n",
       "      <td>0.0</td>\n",
       "      <td>6843.90</td>\n",
       "      <td>0.145596</td>\n",
       "    </tr>\n",
       "    <tr>\n",
       "      <th>2019-12-16 20:55:41</th>\n",
       "      <td>1.0</td>\n",
       "      <td>0.0</td>\n",
       "      <td>0.0</td>\n",
       "      <td>6840.27</td>\n",
       "      <td>0.000010</td>\n",
       "    </tr>\n",
       "    <tr>\n",
       "      <th>2019-12-16 20:55:46</th>\n",
       "      <td>0.0</td>\n",
       "      <td>1.0</td>\n",
       "      <td>0.0</td>\n",
       "      <td>6840.28</td>\n",
       "      <td>0.008800</td>\n",
       "    </tr>\n",
       "    <tr>\n",
       "      <th>2019-12-16 20:55:52</th>\n",
       "      <td>0.0</td>\n",
       "      <td>1.0</td>\n",
       "      <td>0.0</td>\n",
       "      <td>6851.38</td>\n",
       "      <td>0.028628</td>\n",
       "    </tr>\n",
       "  </tbody>\n",
       "</table>\n",
       "</div>"
      ],
      "text/plain": [
       "                     bid_side  ask_side  auction  USD_price  BTC_amount\n",
       "datetime                                                               \n",
       "2019-12-16 20:55:37       0.0       1.0      0.0    6840.28    0.000010\n",
       "2019-12-16 20:55:37       0.0       1.0      0.0    6843.90    0.145596\n",
       "2019-12-16 20:55:41       1.0       0.0      0.0    6840.27    0.000010\n",
       "2019-12-16 20:55:46       0.0       1.0      0.0    6840.28    0.008800\n",
       "2019-12-16 20:55:52       0.0       1.0      0.0    6851.38    0.028628"
      ]
     },
     "execution_count": 32,
     "metadata": {},
     "output_type": "execute_result"
    }
   ],
   "source": [
    "data_repair.head()"
   ]
  },
  {
   "cell_type": "code",
   "execution_count": 33,
   "metadata": {},
   "outputs": [
    {
     "data": {
      "text/html": [
       "<div>\n",
       "<style scoped>\n",
       "    .dataframe tbody tr th:only-of-type {\n",
       "        vertical-align: middle;\n",
       "    }\n",
       "\n",
       "    .dataframe tbody tr th {\n",
       "        vertical-align: top;\n",
       "    }\n",
       "\n",
       "    .dataframe thead th {\n",
       "        text-align: right;\n",
       "    }\n",
       "</style>\n",
       "<table border=\"1\" class=\"dataframe\">\n",
       "  <thead>\n",
       "    <tr style=\"text-align: right;\">\n",
       "      <th></th>\n",
       "      <th>bid_side</th>\n",
       "      <th>ask_side</th>\n",
       "      <th>auction</th>\n",
       "      <th>USD_price</th>\n",
       "      <th>BTC_amount</th>\n",
       "    </tr>\n",
       "    <tr>\n",
       "      <th>datetime</th>\n",
       "      <th></th>\n",
       "      <th></th>\n",
       "      <th></th>\n",
       "      <th></th>\n",
       "      <th></th>\n",
       "    </tr>\n",
       "  </thead>\n",
       "  <tbody>\n",
       "    <tr>\n",
       "      <th>2019-12-18 22:45:02</th>\n",
       "      <td>0.0</td>\n",
       "      <td>1.0</td>\n",
       "      <td>0.0</td>\n",
       "      <td>7182.16</td>\n",
       "      <td>0.017018</td>\n",
       "    </tr>\n",
       "    <tr>\n",
       "      <th>2019-12-18 22:45:06</th>\n",
       "      <td>1.0</td>\n",
       "      <td>0.0</td>\n",
       "      <td>0.0</td>\n",
       "      <td>7181.75</td>\n",
       "      <td>0.000010</td>\n",
       "    </tr>\n",
       "    <tr>\n",
       "      <th>2019-12-18 22:48:11</th>\n",
       "      <td>0.0</td>\n",
       "      <td>1.0</td>\n",
       "      <td>0.0</td>\n",
       "      <td>7212.38</td>\n",
       "      <td>0.000160</td>\n",
       "    </tr>\n",
       "    <tr>\n",
       "      <th>2019-12-18 22:48:18</th>\n",
       "      <td>0.0</td>\n",
       "      <td>1.0</td>\n",
       "      <td>0.0</td>\n",
       "      <td>7202.63</td>\n",
       "      <td>0.000010</td>\n",
       "    </tr>\n",
       "    <tr>\n",
       "      <th>2019-12-18 22:48:18</th>\n",
       "      <td>0.0</td>\n",
       "      <td>1.0</td>\n",
       "      <td>0.0</td>\n",
       "      <td>7202.63</td>\n",
       "      <td>0.019300</td>\n",
       "    </tr>\n",
       "  </tbody>\n",
       "</table>\n",
       "</div>"
      ],
      "text/plain": [
       "                     bid_side  ask_side  auction  USD_price  BTC_amount\n",
       "datetime                                                               \n",
       "2019-12-18 22:45:02       0.0       1.0      0.0    7182.16    0.017018\n",
       "2019-12-18 22:45:06       1.0       0.0      0.0    7181.75    0.000010\n",
       "2019-12-18 22:48:11       0.0       1.0      0.0    7212.38    0.000160\n",
       "2019-12-18 22:48:18       0.0       1.0      0.0    7202.63    0.000010\n",
       "2019-12-18 22:48:18       0.0       1.0      0.0    7202.63    0.019300"
      ]
     },
     "execution_count": 33,
     "metadata": {},
     "output_type": "execute_result"
    }
   ],
   "source": [
    "data_repair.tail()"
   ]
  },
  {
   "cell_type": "markdown",
   "metadata": {},
   "source": [
    "### Current Data"
   ]
  },
  {
   "cell_type": "code",
   "execution_count": 34,
   "metadata": {},
   "outputs": [],
   "source": [
    "tickdata = df_data"
   ]
  },
  {
   "cell_type": "code",
   "execution_count": 35,
   "metadata": {},
   "outputs": [
    {
     "data": {
      "text/html": [
       "<div>\n",
       "<style scoped>\n",
       "    .dataframe tbody tr th:only-of-type {\n",
       "        vertical-align: middle;\n",
       "    }\n",
       "\n",
       "    .dataframe tbody tr th {\n",
       "        vertical-align: top;\n",
       "    }\n",
       "\n",
       "    .dataframe thead th {\n",
       "        text-align: right;\n",
       "    }\n",
       "</style>\n",
       "<table border=\"1\" class=\"dataframe\">\n",
       "  <thead>\n",
       "    <tr style=\"text-align: right;\">\n",
       "      <th></th>\n",
       "      <th>bid_side</th>\n",
       "      <th>ask_side</th>\n",
       "      <th>auction</th>\n",
       "      <th>USD_price</th>\n",
       "      <th>BTC_amount</th>\n",
       "    </tr>\n",
       "  </thead>\n",
       "  <tbody>\n",
       "    <tr>\n",
       "      <th>2015-10-08 14:40:07</th>\n",
       "      <td>1.0</td>\n",
       "      <td>0.0</td>\n",
       "      <td>0.0</td>\n",
       "      <td>242.50</td>\n",
       "      <td>0.050000</td>\n",
       "    </tr>\n",
       "    <tr>\n",
       "      <th>2015-10-08 14:41:35</th>\n",
       "      <td>1.0</td>\n",
       "      <td>0.0</td>\n",
       "      <td>0.0</td>\n",
       "      <td>242.95</td>\n",
       "      <td>0.001000</td>\n",
       "    </tr>\n",
       "    <tr>\n",
       "      <th>2015-10-08 14:43:41</th>\n",
       "      <td>0.0</td>\n",
       "      <td>1.0</td>\n",
       "      <td>0.0</td>\n",
       "      <td>242.96</td>\n",
       "      <td>0.010000</td>\n",
       "    </tr>\n",
       "    <tr>\n",
       "      <th>2015-10-08 14:44:14</th>\n",
       "      <td>1.0</td>\n",
       "      <td>0.0</td>\n",
       "      <td>0.0</td>\n",
       "      <td>242.96</td>\n",
       "      <td>0.033491</td>\n",
       "    </tr>\n",
       "    <tr>\n",
       "      <th>2015-10-08 14:46:46</th>\n",
       "      <td>1.0</td>\n",
       "      <td>0.0</td>\n",
       "      <td>0.0</td>\n",
       "      <td>242.96</td>\n",
       "      <td>0.004000</td>\n",
       "    </tr>\n",
       "  </tbody>\n",
       "</table>\n",
       "</div>"
      ],
      "text/plain": [
       "                     bid_side  ask_side  auction  USD_price  BTC_amount\n",
       "2015-10-08 14:40:07       1.0       0.0      0.0     242.50    0.050000\n",
       "2015-10-08 14:41:35       1.0       0.0      0.0     242.95    0.001000\n",
       "2015-10-08 14:43:41       0.0       1.0      0.0     242.96    0.010000\n",
       "2015-10-08 14:44:14       1.0       0.0      0.0     242.96    0.033491\n",
       "2015-10-08 14:46:46       1.0       0.0      0.0     242.96    0.004000"
      ]
     },
     "execution_count": 35,
     "metadata": {},
     "output_type": "execute_result"
    }
   ],
   "source": [
    "tickdata.head()"
   ]
  },
  {
   "cell_type": "code",
   "execution_count": 36,
   "metadata": {},
   "outputs": [
    {
     "data": {
      "text/html": [
       "<div>\n",
       "<style scoped>\n",
       "    .dataframe tbody tr th:only-of-type {\n",
       "        vertical-align: middle;\n",
       "    }\n",
       "\n",
       "    .dataframe tbody tr th {\n",
       "        vertical-align: top;\n",
       "    }\n",
       "\n",
       "    .dataframe thead th {\n",
       "        text-align: right;\n",
       "    }\n",
       "</style>\n",
       "<table border=\"1\" class=\"dataframe\">\n",
       "  <thead>\n",
       "    <tr style=\"text-align: right;\">\n",
       "      <th></th>\n",
       "      <th>bid_side</th>\n",
       "      <th>ask_side</th>\n",
       "      <th>auction</th>\n",
       "      <th>USD_price</th>\n",
       "      <th>BTC_amount</th>\n",
       "    </tr>\n",
       "  </thead>\n",
       "  <tbody>\n",
       "    <tr>\n",
       "      <th>2019-12-16 20:55:12</th>\n",
       "      <td>1.0</td>\n",
       "      <td>0.0</td>\n",
       "      <td>0.0</td>\n",
       "      <td>6838.95</td>\n",
       "      <td>0.350000</td>\n",
       "    </tr>\n",
       "    <tr>\n",
       "      <th>2019-12-16 20:55:14</th>\n",
       "      <td>0.0</td>\n",
       "      <td>1.0</td>\n",
       "      <td>0.0</td>\n",
       "      <td>6842.66</td>\n",
       "      <td>0.035814</td>\n",
       "    </tr>\n",
       "    <tr>\n",
       "      <th>2019-12-16 20:55:16</th>\n",
       "      <td>1.0</td>\n",
       "      <td>0.0</td>\n",
       "      <td>0.0</td>\n",
       "      <td>6841.42</td>\n",
       "      <td>0.000010</td>\n",
       "    </tr>\n",
       "    <tr>\n",
       "      <th>2019-12-16 20:55:19</th>\n",
       "      <td>0.0</td>\n",
       "      <td>1.0</td>\n",
       "      <td>0.0</td>\n",
       "      <td>6842.66</td>\n",
       "      <td>0.960000</td>\n",
       "    </tr>\n",
       "    <tr>\n",
       "      <th>2019-12-16 20:55:19</th>\n",
       "      <td>0.0</td>\n",
       "      <td>1.0</td>\n",
       "      <td>0.0</td>\n",
       "      <td>6842.66</td>\n",
       "      <td>0.004186</td>\n",
       "    </tr>\n",
       "  </tbody>\n",
       "</table>\n",
       "</div>"
      ],
      "text/plain": [
       "                     bid_side  ask_side  auction  USD_price  BTC_amount\n",
       "2019-12-16 20:55:12       1.0       0.0      0.0    6838.95    0.350000\n",
       "2019-12-16 20:55:14       0.0       1.0      0.0    6842.66    0.035814\n",
       "2019-12-16 20:55:16       1.0       0.0      0.0    6841.42    0.000010\n",
       "2019-12-16 20:55:19       0.0       1.0      0.0    6842.66    0.960000\n",
       "2019-12-16 20:55:19       0.0       1.0      0.0    6842.66    0.004186"
      ]
     },
     "execution_count": 36,
     "metadata": {},
     "output_type": "execute_result"
    }
   ],
   "source": [
    "tickdata.tail()"
   ]
  },
  {
   "cell_type": "code",
   "execution_count": 37,
   "metadata": {},
   "outputs": [],
   "source": [
    "df_data_final=pd.DataFrame()\n",
    "df_data_final = tickdata.append(data_repair)"
   ]
  },
  {
   "cell_type": "code",
   "execution_count": 38,
   "metadata": {},
   "outputs": [
    {
     "data": {
      "text/html": [
       "<div>\n",
       "<style scoped>\n",
       "    .dataframe tbody tr th:only-of-type {\n",
       "        vertical-align: middle;\n",
       "    }\n",
       "\n",
       "    .dataframe tbody tr th {\n",
       "        vertical-align: top;\n",
       "    }\n",
       "\n",
       "    .dataframe thead th {\n",
       "        text-align: right;\n",
       "    }\n",
       "</style>\n",
       "<table border=\"1\" class=\"dataframe\">\n",
       "  <thead>\n",
       "    <tr style=\"text-align: right;\">\n",
       "      <th></th>\n",
       "      <th>bid_side</th>\n",
       "      <th>ask_side</th>\n",
       "      <th>auction</th>\n",
       "      <th>USD_price</th>\n",
       "      <th>BTC_amount</th>\n",
       "    </tr>\n",
       "  </thead>\n",
       "  <tbody>\n",
       "    <tr>\n",
       "      <th>2015-10-08 14:40:07</th>\n",
       "      <td>1.0</td>\n",
       "      <td>0.0</td>\n",
       "      <td>0.0</td>\n",
       "      <td>242.50</td>\n",
       "      <td>0.050000</td>\n",
       "    </tr>\n",
       "    <tr>\n",
       "      <th>2015-10-08 14:41:35</th>\n",
       "      <td>1.0</td>\n",
       "      <td>0.0</td>\n",
       "      <td>0.0</td>\n",
       "      <td>242.95</td>\n",
       "      <td>0.001000</td>\n",
       "    </tr>\n",
       "    <tr>\n",
       "      <th>2015-10-08 14:43:41</th>\n",
       "      <td>0.0</td>\n",
       "      <td>1.0</td>\n",
       "      <td>0.0</td>\n",
       "      <td>242.96</td>\n",
       "      <td>0.010000</td>\n",
       "    </tr>\n",
       "    <tr>\n",
       "      <th>2015-10-08 14:44:14</th>\n",
       "      <td>1.0</td>\n",
       "      <td>0.0</td>\n",
       "      <td>0.0</td>\n",
       "      <td>242.96</td>\n",
       "      <td>0.033491</td>\n",
       "    </tr>\n",
       "    <tr>\n",
       "      <th>2015-10-08 14:46:46</th>\n",
       "      <td>1.0</td>\n",
       "      <td>0.0</td>\n",
       "      <td>0.0</td>\n",
       "      <td>242.96</td>\n",
       "      <td>0.004000</td>\n",
       "    </tr>\n",
       "  </tbody>\n",
       "</table>\n",
       "</div>"
      ],
      "text/plain": [
       "                     bid_side  ask_side  auction  USD_price  BTC_amount\n",
       "2015-10-08 14:40:07       1.0       0.0      0.0     242.50    0.050000\n",
       "2015-10-08 14:41:35       1.0       0.0      0.0     242.95    0.001000\n",
       "2015-10-08 14:43:41       0.0       1.0      0.0     242.96    0.010000\n",
       "2015-10-08 14:44:14       1.0       0.0      0.0     242.96    0.033491\n",
       "2015-10-08 14:46:46       1.0       0.0      0.0     242.96    0.004000"
      ]
     },
     "execution_count": 38,
     "metadata": {},
     "output_type": "execute_result"
    }
   ],
   "source": [
    "df_data_final.head()"
   ]
  },
  {
   "cell_type": "code",
   "execution_count": 39,
   "metadata": {},
   "outputs": [
    {
     "data": {
      "text/html": [
       "<div>\n",
       "<style scoped>\n",
       "    .dataframe tbody tr th:only-of-type {\n",
       "        vertical-align: middle;\n",
       "    }\n",
       "\n",
       "    .dataframe tbody tr th {\n",
       "        vertical-align: top;\n",
       "    }\n",
       "\n",
       "    .dataframe thead th {\n",
       "        text-align: right;\n",
       "    }\n",
       "</style>\n",
       "<table border=\"1\" class=\"dataframe\">\n",
       "  <thead>\n",
       "    <tr style=\"text-align: right;\">\n",
       "      <th></th>\n",
       "      <th>bid_side</th>\n",
       "      <th>ask_side</th>\n",
       "      <th>auction</th>\n",
       "      <th>USD_price</th>\n",
       "      <th>BTC_amount</th>\n",
       "    </tr>\n",
       "  </thead>\n",
       "  <tbody>\n",
       "    <tr>\n",
       "      <th>2019-12-18 22:45:02</th>\n",
       "      <td>0.0</td>\n",
       "      <td>1.0</td>\n",
       "      <td>0.0</td>\n",
       "      <td>7182.16</td>\n",
       "      <td>0.017018</td>\n",
       "    </tr>\n",
       "    <tr>\n",
       "      <th>2019-12-18 22:45:06</th>\n",
       "      <td>1.0</td>\n",
       "      <td>0.0</td>\n",
       "      <td>0.0</td>\n",
       "      <td>7181.75</td>\n",
       "      <td>0.000010</td>\n",
       "    </tr>\n",
       "    <tr>\n",
       "      <th>2019-12-18 22:48:11</th>\n",
       "      <td>0.0</td>\n",
       "      <td>1.0</td>\n",
       "      <td>0.0</td>\n",
       "      <td>7212.38</td>\n",
       "      <td>0.000160</td>\n",
       "    </tr>\n",
       "    <tr>\n",
       "      <th>2019-12-18 22:48:18</th>\n",
       "      <td>0.0</td>\n",
       "      <td>1.0</td>\n",
       "      <td>0.0</td>\n",
       "      <td>7202.63</td>\n",
       "      <td>0.000010</td>\n",
       "    </tr>\n",
       "    <tr>\n",
       "      <th>2019-12-18 22:48:18</th>\n",
       "      <td>0.0</td>\n",
       "      <td>1.0</td>\n",
       "      <td>0.0</td>\n",
       "      <td>7202.63</td>\n",
       "      <td>0.019300</td>\n",
       "    </tr>\n",
       "  </tbody>\n",
       "</table>\n",
       "</div>"
      ],
      "text/plain": [
       "                     bid_side  ask_side  auction  USD_price  BTC_amount\n",
       "2019-12-18 22:45:02       0.0       1.0      0.0    7182.16    0.017018\n",
       "2019-12-18 22:45:06       1.0       0.0      0.0    7181.75    0.000010\n",
       "2019-12-18 22:48:11       0.0       1.0      0.0    7212.38    0.000160\n",
       "2019-12-18 22:48:18       0.0       1.0      0.0    7202.63    0.000010\n",
       "2019-12-18 22:48:18       0.0       1.0      0.0    7202.63    0.019300"
      ]
     },
     "execution_count": 39,
     "metadata": {},
     "output_type": "execute_result"
    }
   ],
   "source": [
    "df_data_final.tail()"
   ]
  },
  {
   "cell_type": "code",
   "execution_count": 40,
   "metadata": {
    "scrolled": true
   },
   "outputs": [
    {
     "data": {
      "text/plain": [
       "False"
      ]
     },
     "execution_count": 40,
     "metadata": {},
     "output_type": "execute_result"
    }
   ],
   "source": [
    "df_data_final.index.is_monotonic"
   ]
  },
  {
   "cell_type": "code",
   "execution_count": 41,
   "metadata": {},
   "outputs": [
    {
     "data": {
      "image/png": "[encoded data removed]",
      "text/plain": [
       "<Figure size 1440x1080 with 2 Axes>"
      ]
     },
     "metadata": {
      "needs_background": "dark"
     },
     "output_type": "display_data"
    }
   ],
   "source": [
    "tickdata_graph = df_data_final\n",
    "#tickdata_graph = tickdata_graph[(tickdata_graph['auction'] ==0)]\n",
    "\n",
    "plt.figure(figsize=(20,15))\n",
    "plt.subplots_adjust(hspace=0.2,wspace=0.1)\n",
    "\n",
    "plt.subplot(211)\n",
    "tickdata_graph['USD_price'].plot(color='Red')\n",
    "plt.xlabel('Time')\n",
    "plt.ylabel('Price')\n",
    "plt.title(f'{coin} tick data')\n",
    "plt.grid(True)\n",
    "\n",
    "plt.subplot(212)\n",
    "tickdata_graph[f'{coin}_amount'].plot()\n",
    "plt.xlabel('date')\n",
    "plt.ylabel('Volume')\n",
    "plt.title(f'{coin} volume')\n",
    "plt.grid(True)\n"
   ]
  },
  {
   "cell_type": "code",
   "execution_count": 42,
   "metadata": {},
   "outputs": [
    {
     "data": {
      "text/plain": [
       "<bound method HDFStore.close of <class 'pandas.io.pytables.HDFStore'>\n",
       "File path: df_btcusd_data.h5\n",
       ">"
      ]
     },
     "execution_count": 42,
     "metadata": {},
     "output_type": "execute_result"
    }
   ],
   "source": [
    "h6 = pd.HDFStore(f'df_{coinpair_low}_data.h5', 'a')\n",
    "h6.append(f'df_{coinpair_low}_data', df_data_final, min_itemsize=10 )\n",
    "h6.close"
   ]
  },
  {
   "cell_type": "code",
   "execution_count": 43,
   "metadata": {},
   "outputs": [],
   "source": [
    "dest_path = f'/home/martin/linux_shared/algo_trading/gemini_project/tick_data_storage/tick_repair/{coinpair_low}/df_{coinpair_low}_data.h5'"
   ]
  },
  {
   "cell_type": "code",
   "execution_count": 44,
   "metadata": {},
   "outputs": [
    {
     "name": "stdout",
     "output_type": "stream",
     "text": [
      "df_btcusd_data.h5         | 513443 kB | 1746.4 kB/s | ETA: 00:00:00 | 100%\n"
     ]
    }
   ],
   "source": [
    "!pscp $dest_path root@178.62.43.173:"
   ]
  },
  {
   "cell_type": "code",
   "execution_count": 45,
   "metadata": {},
   "outputs": [
    {
     "name": "stderr",
     "output_type": "stream",
     "text": [
      "Closing remaining open files:old_df_btcusd_data.h5...donedf_btcusd_data.h5...done\n"
     ]
    }
   ],
   "source": [
    "tb.file._open_files.close_all()"
   ]
  },
  {
   "cell_type": "code",
   "execution_count": 46,
   "metadata": {},
   "outputs": [
    {
     "name": "stdout",
     "output_type": "stream",
     "text": [
      "rm: missing operand\r\n",
      "Try 'rm --help' for more information.\r\n"
     ]
    }
   ],
   "source": [
    "!rm $initial_f $working_f"
   ]
  },
  {
   "cell_type": "code",
   "execution_count": null,
   "metadata": {},
   "outputs": [],
   "source": []
  }
 ],
 "metadata": {
  "kernelspec": {
   "display_name": "Python 3",
   "language": "python",
   "name": "python3"
  },
  "language_info": {
   "codemirror_mode": {
    "name": "ipython",
    "version": 3
   },
   "file_extension": ".py",
   "mimetype": "text/x-python",
   "name": "python",
   "nbconvert_exporter": "python",
   "pygments_lexer": "ipython3",
   "version": "3.6.7"
  }
 },
 "nbformat": 4,
 "nbformat_minor": 2
}
